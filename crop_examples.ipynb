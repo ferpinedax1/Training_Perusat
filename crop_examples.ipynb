{
 "cells": [
  {
   "cell_type": "code",
   "execution_count": 1,
   "metadata": {},
   "outputs": [],
   "source": [
    "%reload_ext autoreload\n",
    "%autoreload 2\n",
    "%matplotlib inline"
   ]
  },
  {
   "cell_type": "code",
   "execution_count": null,
   "metadata": {},
   "outputs": [],
   "source": [
    "\n",
    "from pathlib import Path\n",
    "import timeit\n",
    "import csv\n",
    "from cropImages import splits_images\n",
    "from cropMasks import splits_masks\n",
    "\n",
    "####### Images File ##################\n",
    "data_path = Path('imagenes')\n",
    "out_path_images = '/home/jgonzalez/Test_2019/Test_network/data/train/images'\n"
   ]
  },
  {
   "cell_type": "code",
   "execution_count": null,
   "metadata": {},
   "outputs": [],
   "source": [
    "####### Images ###############################################################################\n",
    "\n",
    "def create_crop_dataset_images():\n",
    "    start = timeit.default_timer()\n",
    "    input_filename0  = 'imagen_test/IMG_PER1_20170422154946_ORT_MS_003749.TIF'\n",
    "    output_filename0 = 'imagentif/rgbnir0{}-{}.tif'\n",
    "    output_filename_npy0 = 'imagen_test{}-{}.npy'\n",
    "    output_filename_npyblack0 = 'imagen_test{}-{}_b.npy'\n",
    "    splits_images(data_path,out_path_images,input_filename0,output_filename0,output_filename_npy0,output_filename_npyblack0)\n",
    "\n",
    "\n",
    "\n",
    "\n",
    "create_crop_dataset_images()\n"
   ]
  },
  {
   "cell_type": "code",
   "execution_count": 2,
   "metadata": {},
   "outputs": [
    {
     "name": "stdout",
     "output_type": "stream",
     "text": [
      "{'driver': 'GTiff', 'dtype': 'uint16', 'nodata': None, 'width': 512, 'height': 512, 'count': 4, 'crs': CRS.from_epsg(32717), 'transform': Affine(2.8, 0.0, 517673.00999999995,\n",
      "       0.0, -2.8, 9350019.09), 'tiled': False, 'interleave': 'pixel'}\n"
     ]
    }
   ],
   "source": [
    "import rasterio\n",
    "import rasterio.plot\n",
    "import numpy as np\n",
    "import matplotlib\n",
    "import matplotlib.pyplot as plt\n",
    "filepath='/home/jgonzalez/Test_2019/Test_network/dataold/train/images/imagentif/rgbnir0512-3072.tif'\n",
    "with rasterio.open(filepath) as src:\n",
    "    print(src.profile)"
   ]
  },
  {
   "cell_type": "code",
   "execution_count": 4,
   "metadata": {},
   "outputs": [
    {
     "data": {
      "text/plain": [
       "{'driver': 'GTiff',\n",
       " 'dtype': 'uint16',\n",
       " 'nodata': None,\n",
       " 'width': 512,\n",
       " 'height': 512,\n",
       " 'count': 4,\n",
       " 'crs': CRS.from_epsg(32717),\n",
       " 'transform': Affine(2.8, 0.0, 517673.00999999995,\n",
       "        0.0, -2.8, 9350019.09)}"
      ]
     },
     "execution_count": 4,
     "metadata": {},
     "output_type": "execute_result"
    }
   ],
   "source": [
    "src.meta"
   ]
  },
  {
   "cell_type": "code",
   "execution_count": 5,
   "metadata": {},
   "outputs": [
    {
     "data": {
      "text/plain": [
       "{'driver': 'GTiff',\n",
       " 'dtype': 'uint16',\n",
       " 'nodata': None,\n",
       " 'width': 6329,\n",
       " 'height': 6361,\n",
       " 'count': 4,\n",
       " 'crs': CRS.from_epsg(32717),\n",
       " 'transform': Affine(2.8, 0.0, 516239.41,\n",
       "        0.0, -2.8, 9358620.69)}"
      ]
     },
     "execution_count": 5,
     "metadata": {},
     "output_type": "execute_result"
    }
   ],
   "source": [
    "import rasterio\n",
    "import rasterio.plot\n",
    "import numpy as np\n",
    "import matplotlib\n",
    "import matplotlib.pyplot as plt\n",
    "filepath='/home/jgonzalez/Test_2019/Test_network/model_HR_VHR/create_dataset_npy_VHR/imagenes/imagen0/IMG_PER1_20170422154946_ORT_MS_003749.TIF'\n",
    "src=rasterio.open(filepath) \n",
    "src.meta"
   ]
  },
  {
   "cell_type": "code",
   "execution_count": null,
   "metadata": {},
   "outputs": [],
   "source": []
  }
 ],
 "metadata": {
  "kernelspec": {
   "display_name": "Python 3",
   "language": "python",
   "name": "python3"
  },
  "language_info": {
   "codemirror_mode": {
    "name": "ipython",
    "version": 3
   },
   "file_extension": ".py",
   "mimetype": "text/x-python",
   "name": "python",
   "nbconvert_exporter": "python",
   "pygments_lexer": "ipython3",
   "version": "3.6.8"
  }
 },
 "nbformat": 4,
 "nbformat_minor": 4
}
